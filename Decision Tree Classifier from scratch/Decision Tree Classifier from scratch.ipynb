{
 "cells": [
  {
   "cell_type": "markdown",
   "metadata": {},
   "source": [
    "### Building a decision tree classifier from scratch on loan dataset"
   ]
  },
  {
   "cell_type": "code",
   "execution_count": 1,
   "metadata": {},
   "outputs": [],
   "source": [
    "#import libraries\n",
    "import math\n",
    "import numpy as np\n",
    "import pandas as pd\n",
    "import matplotlib.pyplot as plt"
   ]
  },
  {
   "cell_type": "code",
   "execution_count": 2,
   "metadata": {},
   "outputs": [
    {
     "data": {
      "text/html": [
       "<div>\n",
       "<style scoped>\n",
       "    .dataframe tbody tr th:only-of-type {\n",
       "        vertical-align: middle;\n",
       "    }\n",
       "\n",
       "    .dataframe tbody tr th {\n",
       "        vertical-align: top;\n",
       "    }\n",
       "\n",
       "    .dataframe thead th {\n",
       "        text-align: right;\n",
       "    }\n",
       "</style>\n",
       "<table border=\"1\" class=\"dataframe\">\n",
       "  <thead>\n",
       "    <tr style=\"text-align: right;\">\n",
       "      <th></th>\n",
       "      <th>Gender</th>\n",
       "      <th>Married</th>\n",
       "      <th>Dependents</th>\n",
       "      <th>Education</th>\n",
       "      <th>Self_Employed</th>\n",
       "      <th>ApplicantIncome</th>\n",
       "      <th>CoapplicantIncome</th>\n",
       "      <th>LoanAmount</th>\n",
       "      <th>Loan_Amount_Term</th>\n",
       "      <th>Credit_History</th>\n",
       "      <th>Property_Area</th>\n",
       "      <th>Loan_Status</th>\n",
       "    </tr>\n",
       "  </thead>\n",
       "  <tbody>\n",
       "    <tr>\n",
       "      <th>0</th>\n",
       "      <td>Male</td>\n",
       "      <td>No</td>\n",
       "      <td>0</td>\n",
       "      <td>Graduate</td>\n",
       "      <td>No</td>\n",
       "      <td>5849</td>\n",
       "      <td>0.0</td>\n",
       "      <td>NaN</td>\n",
       "      <td>360.0</td>\n",
       "      <td>1.0</td>\n",
       "      <td>Urban</td>\n",
       "      <td>Y</td>\n",
       "    </tr>\n",
       "    <tr>\n",
       "      <th>1</th>\n",
       "      <td>Male</td>\n",
       "      <td>Yes</td>\n",
       "      <td>1</td>\n",
       "      <td>Graduate</td>\n",
       "      <td>No</td>\n",
       "      <td>4583</td>\n",
       "      <td>1508.0</td>\n",
       "      <td>128.0</td>\n",
       "      <td>360.0</td>\n",
       "      <td>1.0</td>\n",
       "      <td>Rural</td>\n",
       "      <td>N</td>\n",
       "    </tr>\n",
       "    <tr>\n",
       "      <th>2</th>\n",
       "      <td>Male</td>\n",
       "      <td>Yes</td>\n",
       "      <td>0</td>\n",
       "      <td>Graduate</td>\n",
       "      <td>Yes</td>\n",
       "      <td>3000</td>\n",
       "      <td>0.0</td>\n",
       "      <td>66.0</td>\n",
       "      <td>360.0</td>\n",
       "      <td>1.0</td>\n",
       "      <td>Urban</td>\n",
       "      <td>Y</td>\n",
       "    </tr>\n",
       "    <tr>\n",
       "      <th>3</th>\n",
       "      <td>Male</td>\n",
       "      <td>Yes</td>\n",
       "      <td>0</td>\n",
       "      <td>Not Graduate</td>\n",
       "      <td>No</td>\n",
       "      <td>2583</td>\n",
       "      <td>2358.0</td>\n",
       "      <td>120.0</td>\n",
       "      <td>360.0</td>\n",
       "      <td>1.0</td>\n",
       "      <td>Urban</td>\n",
       "      <td>Y</td>\n",
       "    </tr>\n",
       "    <tr>\n",
       "      <th>4</th>\n",
       "      <td>Male</td>\n",
       "      <td>No</td>\n",
       "      <td>0</td>\n",
       "      <td>Graduate</td>\n",
       "      <td>No</td>\n",
       "      <td>6000</td>\n",
       "      <td>0.0</td>\n",
       "      <td>141.0</td>\n",
       "      <td>360.0</td>\n",
       "      <td>1.0</td>\n",
       "      <td>Urban</td>\n",
       "      <td>Y</td>\n",
       "    </tr>\n",
       "  </tbody>\n",
       "</table>\n",
       "</div>"
      ],
      "text/plain": [
       "  Gender Married Dependents     Education Self_Employed  ApplicantIncome  \\\n",
       "0   Male      No          0      Graduate            No             5849   \n",
       "1   Male     Yes          1      Graduate            No             4583   \n",
       "2   Male     Yes          0      Graduate           Yes             3000   \n",
       "3   Male     Yes          0  Not Graduate            No             2583   \n",
       "4   Male      No          0      Graduate            No             6000   \n",
       "\n",
       "   CoapplicantIncome  LoanAmount  Loan_Amount_Term  Credit_History  \\\n",
       "0                0.0         NaN             360.0             1.0   \n",
       "1             1508.0       128.0             360.0             1.0   \n",
       "2                0.0        66.0             360.0             1.0   \n",
       "3             2358.0       120.0             360.0             1.0   \n",
       "4                0.0       141.0             360.0             1.0   \n",
       "\n",
       "  Property_Area Loan_Status  \n",
       "0         Urban           Y  \n",
       "1         Rural           N  \n",
       "2         Urban           Y  \n",
       "3         Urban           Y  \n",
       "4         Urban           Y  "
      ]
     },
     "execution_count": 2,
     "metadata": {},
     "output_type": "execute_result"
    }
   ],
   "source": [
    "#Load dataset\n",
    "dataset = pd.read_csv('./Datasets/loan_data.csv')\n",
    "dataset = dataset.drop(columns=['Loan_ID'],axis=0)\n",
    "dataset.head()"
   ]
  },
  {
   "cell_type": "code",
   "execution_count": 3,
   "metadata": {
    "scrolled": true
   },
   "outputs": [
    {
     "name": "stdout",
     "output_type": "stream",
     "text": [
      "<class 'pandas.core.frame.DataFrame'>\n",
      "RangeIndex: 614 entries, 0 to 613\n",
      "Data columns (total 12 columns):\n",
      " #   Column             Non-Null Count  Dtype  \n",
      "---  ------             --------------  -----  \n",
      " 0   Gender             601 non-null    object \n",
      " 1   Married            611 non-null    object \n",
      " 2   Dependents         599 non-null    object \n",
      " 3   Education          614 non-null    object \n",
      " 4   Self_Employed      582 non-null    object \n",
      " 5   ApplicantIncome    614 non-null    int64  \n",
      " 6   CoapplicantIncome  614 non-null    float64\n",
      " 7   LoanAmount         592 non-null    float64\n",
      " 8   Loan_Amount_Term   600 non-null    float64\n",
      " 9   Credit_History     564 non-null    float64\n",
      " 10  Property_Area      614 non-null    object \n",
      " 11  Loan_Status        614 non-null    object \n",
      "dtypes: float64(4), int64(1), object(7)\n",
      "memory usage: 57.7+ KB\n"
     ]
    }
   ],
   "source": [
    "#Check for NaN values\n",
    "dataset.info()"
   ]
  },
  {
   "cell_type": "markdown",
   "metadata": {},
   "source": [
    "#### There are NaN values, we need to fill them. For now, lets fill the NaN values in categorical column with the most frequent occuring value and fill the numeric column with the median of that column"
   ]
  },
  {
   "cell_type": "code",
   "execution_count": 4,
   "metadata": {},
   "outputs": [],
   "source": [
    "dataset['Gender'] = dataset['Gender'].fillna(dataset['Gender'].mode()[0])\n",
    "dataset['Married'] = dataset['Married'].fillna(dataset['Married'].mode()[0])"
   ]
  },
  {
   "cell_type": "code",
   "execution_count": 5,
   "metadata": {},
   "outputs": [
    {
     "data": {
      "text/plain": [
       "0     345\n",
       "1     102\n",
       "2     101\n",
       "3+     51\n",
       "Name: Dependents, dtype: int64"
      ]
     },
     "execution_count": 5,
     "metadata": {},
     "output_type": "execute_result"
    }
   ],
   "source": [
    "#Dependents column\n",
    "dataset['Dependents'].value_counts()"
   ]
  },
  {
   "cell_type": "markdown",
   "metadata": {},
   "source": [
    "#### Fill this column also with maximum value count"
   ]
  },
  {
   "cell_type": "code",
   "execution_count": 6,
   "metadata": {},
   "outputs": [],
   "source": [
    "dataset['Dependents'] = dataset['Dependents'].fillna(dataset['Dependents'].mode()[0])"
   ]
  },
  {
   "cell_type": "code",
   "execution_count": 7,
   "metadata": {},
   "outputs": [],
   "source": [
    "#Same with the 'Self_Employed column'\n",
    "dataset['Self_Employed'] = dataset['Self_Employed'].fillna(dataset['Self_Employed'].mode()[0])"
   ]
  },
  {
   "cell_type": "code",
   "execution_count": 8,
   "metadata": {
    "scrolled": true
   },
   "outputs": [
    {
     "data": {
      "text/plain": [
       "<matplotlib.axes._subplots.AxesSubplot at 0x12f930d0c08>"
      ]
     },
     "execution_count": 8,
     "metadata": {},
     "output_type": "execute_result"
    },
    {
     "data": {
      "image/png": "[encoded data removed]",
      "text/plain": [
       "<Figure size 432x288 with 1 Axes>"
      ]
     },
     "metadata": {
      "needs_background": "light"
     },
     "output_type": "display_data"
    }
   ],
   "source": [
    "#Check the loan amount term column\n",
    "dataset['Loan_Amount_Term'].plot(kind='hist')"
   ]
  },
  {
   "cell_type": "markdown",
   "metadata": {},
   "source": [
    "#### The most frequent occuring value is 360.0, we will use this to fill the nan values in this column"
   ]
  },
  {
   "cell_type": "code",
   "execution_count": 9,
   "metadata": {},
   "outputs": [],
   "source": [
    "dataset['Loan_Amount_Term'] = dataset['Loan_Amount_Term'].fillna(360.0)"
   ]
  },
  {
   "cell_type": "code",
   "execution_count": 10,
   "metadata": {},
   "outputs": [
    {
     "data": {
      "text/plain": [
       "<matplotlib.axes._subplots.AxesSubplot at 0x12f93861b48>"
      ]
     },
     "execution_count": 10,
     "metadata": {},
     "output_type": "execute_result"
    },
    {
     "data": {
      "image/png": "[encoded data removed]",
      "text/plain": [
       "<Figure size 432x288 with 1 Axes>"
      ]
     },
     "metadata": {
      "needs_background": "light"
     },
     "output_type": "display_data"
    }
   ],
   "source": [
    "#Credit history column\n",
    "dataset['Credit_History'].plot(kind='hist')"
   ]
  },
  {
   "cell_type": "code",
   "execution_count": 11,
   "metadata": {},
   "outputs": [],
   "source": [
    "#Do the same as for 'Loan_amount_term' column\n",
    "dataset['Credit_History'] = dataset['Credit_History'].fillna(1.0)"
   ]
  },
  {
   "cell_type": "code",
   "execution_count": 12,
   "metadata": {},
   "outputs": [],
   "source": [
    "#Fill the loan amount column with the median of that column\n",
    "dataset['LoanAmount'] = dataset['LoanAmount'].fillna(dataset['LoanAmount'].median())"
   ]
  },
  {
   "cell_type": "code",
   "execution_count": 13,
   "metadata": {
    "scrolled": true
   },
   "outputs": [
    {
     "name": "stdout",
     "output_type": "stream",
     "text": [
      "<class 'pandas.core.frame.DataFrame'>\n",
      "RangeIndex: 614 entries, 0 to 613\n",
      "Data columns (total 12 columns):\n",
      " #   Column             Non-Null Count  Dtype  \n",
      "---  ------             --------------  -----  \n",
      " 0   Gender             614 non-null    object \n",
      " 1   Married            614 non-null    object \n",
      " 2   Dependents         614 non-null    object \n",
      " 3   Education          614 non-null    object \n",
      " 4   Self_Employed      614 non-null    object \n",
      " 5   ApplicantIncome    614 non-null    int64  \n",
      " 6   CoapplicantIncome  614 non-null    float64\n",
      " 7   LoanAmount         614 non-null    float64\n",
      " 8   Loan_Amount_Term   614 non-null    float64\n",
      " 9   Credit_History     614 non-null    float64\n",
      " 10  Property_Area      614 non-null    object \n",
      " 11  Loan_Status        614 non-null    object \n",
      "dtypes: float64(4), int64(1), object(7)\n",
      "memory usage: 57.7+ KB\n"
     ]
    }
   ],
   "source": [
    "#Check the dataset\n",
    "dataset.info()"
   ]
  },
  {
   "cell_type": "markdown",
   "metadata": {},
   "source": [
    "#### All the NaN values are filled"
   ]
  },
  {
   "cell_type": "code",
   "execution_count": 14,
   "metadata": {},
   "outputs": [],
   "source": [
    "#Build a class for node in a decision tree\n",
    "#It has attributes as follows\n",
    "#A left child, A right child, the data and split parameters if this node will be splitted\n",
    "#The split parameters are - 'feature'-tells whicb feature is used to split the node\n",
    "#                         - 'val'-tells the value at which the split is made, can be an object or float value\n",
    "#                         - if the feature is numeric, then the left child contains the datapoints for which that feature is \n",
    "#                         - less than the threshold and right child contains datapoints greater than the threshold\n",
    "#                         - if the feature is categorical, then the left child contains the datapoints where the feature\n",
    "#                         - is equal to given val and right child contains the datapoints where that feature is not equal to that value\n",
    "class Node:\n",
    "    def __init__(self):\n",
    "        self.left_child = None\n",
    "        self.right_child = None\n",
    "        self.data = None\n",
    "        self.feature = None\n",
    "        self.val = None\n",
    "        self.leaf = False\n",
    "    def set_left_child(self,node):\n",
    "        self.left_child = node\n",
    "    def set_right_child(self,node):\n",
    "        self.right_child = node\n",
    "    def set_data(self,data):\n",
    "        self.data = data\n",
    "    def set_split_params(self,feature,val):\n",
    "        self.feature = feature\n",
    "        self.val = val\n",
    "        "
   ]
  },
  {
   "cell_type": "code",
   "execution_count": 15,
   "metadata": {},
   "outputs": [],
   "source": [
    "#creating the functions for calculating the criteria for the splits\n",
    "def shanon_entropy(data,target='Loan_Status'):\n",
    "    probs = data[target].value_counts(normalize=True)\n",
    "    entropy = 0\n",
    "    for p in probs:\n",
    "        entropy = entropy + (-1*(p*math.log2(p)))\n",
    "    return entropy\n",
    "\n",
    "def gini_impurity(data,target='Loan_Status'):\n",
    "    probs = data[target].value_counts(normalize=True)\n",
    "    impurity = 0\n",
    "    for p in probs:\n",
    "        impurity = impurity - (p*p)\n",
    "    return impurity\n",
    "\n",
    "def misclass_rate(data,target = 'Loan_Status'):\n",
    "    probs = data[target].value_counts(normalize=True)\n",
    "    return 1 - probs.max()   \n",
    "\n",
    "#Stopping criteria by minimum number of samples and if a node is completely pure, min impurity by any of the criteria above can also be used\n",
    "def stopping_criteria(node):\n",
    "    if(len(node.data)<=5 or misclass_rate(node.data)<=0.01):\n",
    "        return True\n",
    "    else:\n",
    "        return False"
   ]
  },
  {
   "cell_type": "code",
   "execution_count": 16,
   "metadata": {},
   "outputs": [],
   "source": [
    "#Function for building the tree recursively\n",
    "def build_tree(dataset,features,target='Loan_Status',criteria='Information Gain'):\n",
    "    root = Node()\n",
    "    root.set_data(dataset)\n",
    "    #return the current node if stopping criteria is met\n",
    "    if(stopping_criteria(root)):\n",
    "        root.leaf=True\n",
    "        return root\n",
    "    allowed_cols = [] # allowable columns to be used to split\n",
    "    allowed_col_gain = [] # list of 3-tuples of form (col_name,threshold,criteria_gain_after_splitting_on_this)\n",
    "    for col in features:\n",
    "        if((dataset[col].dtype.name=='object' and len(pd.unique(dataset[col]))>1) or dataset[col].dtype.name=='int64' or dataset[col].dtype.name=='float64'):\n",
    "            allowed_cols.append(col)\n",
    "    for col in allowed_cols:\n",
    "        if(dataset[col].dtype.name=='object'):\n",
    "            for val in list(pd.unique(dataset[col]))[:-1]:\n",
    "                data_1 = dataset[dataset[col]==val]\n",
    "                data_2 = dataset[dataset[col]!=val]\n",
    "                if(criteria=='Information Gain'):\n",
    "                    gain_after_split = shanon_entropy(dataset) - ((len(data_1)/len(dataset))*shanon_entropy(data_1))-((len(data_2)/len(dataset))*shanon_entropy(data_2))\n",
    "                elif(criteria=='Gini'):\n",
    "                    gain_after_split = gini_impurity(dataset)-(gini_impurity(data_1)+gini_impurity(data_2))\n",
    "                elif(criteria=='misclassification rate'):\n",
    "                    gain_after_split = misclass_rate(dataset)-(misclass_rate(data_1)+misclass_rate(data_2))\n",
    "                allowed_col_gain.append((col,val,gain_after_split))\n",
    "        #if the column is numeric\n",
    "        else:\n",
    "            temp_data = dataset.sort_values(col,ignore_index=True)\n",
    "            changes = temp_data[target].ne(temp_data[target].shift().bfill()).astype(int)\n",
    "            indices = changes[changes!=0].index.values#indices where the target variable changes its value \n",
    "            for idx in indices:\n",
    "                threshold = 0.5*(temp_data.loc[idx-1,col]+temp_data.loc[idx,col])\n",
    "                data_1 = dataset[dataset[col]<threshold]\n",
    "                data_2 = dataset[dataset[col]>=threshold]\n",
    "                if(criteria=='Information Gain'):\n",
    "                    gain_after_split = shanon_entropy(dataset) - ((len(data_1)/len(dataset))*shanon_entropy(data_1))-((len(data_2)/len(dataset))*shanon_entropy(data_2))\n",
    "                elif(criteria=='Gini'):\n",
    "                    gain_after_split = gini_impurity(dataset)-(gini_impurity(data_1)+gini_impurity(data_2))\n",
    "                elif(criteria=='misclassification rate'):\n",
    "                    gain_after_split = misclass_rate(dataset)-(misclass_rate(data_1)+misclass_rate(data_2))\n",
    "                allowed_col_gain.append((col,threshold,gain_after_split))\n",
    "    #store the maximum gain result out of the 3-tuple list\n",
    "    res_triplet = max(allowed_col_gain,key = lambda t:t[2])\n",
    "    feature_to_split = res_triplet[0]\n",
    "    value = res_triplet[1]\n",
    "    root.set_split_params(feature_to_split,value)\n",
    "    if(dataset[feature_to_split].dtype.name=='object'):\n",
    "        dataset_left = dataset[dataset[feature_to_split]==value]\n",
    "        dataset_right = dataset[dataset[feature_to_split]!=value]\n",
    "    else:\n",
    "        dataset_left = dataset[dataset[feature_to_split]<value]\n",
    "        dataset_right = dataset[dataset[feature_to_split]>=value]\n",
    "    left_child = build_tree(dataset_left,features)\n",
    "    right_child = build_tree(dataset_right,features)\n",
    "    root.set_left_child(left_child)\n",
    "    root.set_right_child(right_child)\n",
    "    return root "
   ]
  },
  {
   "cell_type": "code",
   "execution_count": 17,
   "metadata": {
    "scrolled": false
   },
   "outputs": [],
   "source": [
    "features = list(dataset.columns.values)[:-1]\n",
    "tree_clf = build_tree(dataset,features)"
   ]
  },
  {
   "cell_type": "code",
   "execution_count": 18,
   "metadata": {},
   "outputs": [],
   "source": [
    "#predicting new datapoint\n",
    "def predict(datapoint,node,target='Loan_Status'):\n",
    "    if(node.leaf):\n",
    "        return node.data[target].mode()[0]\n",
    "    feature_to_split = node.feature\n",
    "    value = node.val\n",
    "    if(node.data[feature_to_split].dtype.name=='object'):\n",
    "        if(datapoint.loc[0,feature_to_split]==value):\n",
    "            return predict(datapoint,node.left_child)\n",
    "        else:\n",
    "            return predict(datapoint,node.right_child)\n",
    "    else:\n",
    "        if(datapoint.loc[0,feature_to_split]<value):\n",
    "            return predict(datapoint,node.left_child)\n",
    "        else:\n",
    "            return predict(datapoint,node.right_child)\n",
    "        \n",
    "        "
   ]
  },
  {
   "cell_type": "code",
   "execution_count": 19,
   "metadata": {},
   "outputs": [
    {
     "name": "stdout",
     "output_type": "stream",
     "text": [
      "Y\n"
     ]
    }
   ],
   "source": [
    "datapoint = pd.DataFrame(data={'Gender':['Male'],'Married':['No'],'Dependents':['2'],'Education':['Graduate'],'Self_Employed':['Yes'],'ApplicantIncome':[3102],'CoapplicantIncome':[2138.0],'LoanAmount':[86.0],'Loan_Amount_Term':[200.0],'Credit_History':[1.0],'Property_Area':['Urban']})\n",
    "print(predict(datapoint,tree_clf))"
   ]
  },
  {
   "cell_type": "markdown",
   "metadata": {},
   "source": [
    "#### Means the loan is approved for the given datapoint"
   ]
  },
  {
   "cell_type": "code",
   "execution_count": 43,
   "metadata": {},
   "outputs": [
    {
     "name": "stdout",
     "output_type": "stream",
     "text": [
      "0.9462540716612378\n"
     ]
    }
   ],
   "source": [
    "#Computing training accuracy\n",
    "train_preds = []\n",
    "for i in range(len(dataset)):\n",
    "    pred = predict(dataset.loc[[i],features].reset_index(),tree_clf)\n",
    "    train_preds.append(pred)\n",
    "train_preds = np.array(train_preds)\n",
    "print(((dataset['Loan_Status'].values==train_preds).sum())/(len(dataset)))"
   ]
  },
  {
   "cell_type": "markdown",
   "metadata": {},
   "source": [
    "#### 94 % training accuracy"
   ]
  }
 ],
 "metadata": {
  "kernelspec": {
   "display_name": "Python 3",
   "language": "python",
   "name": "python3"
  },
  "language_info": {
   "codemirror_mode": {
    "name": "ipython",
    "version": 3
   },
   "file_extension": ".py",
   "mimetype": "text/x-python",
   "name": "python",
   "nbconvert_exporter": "python",
   "pygments_lexer": "ipython3",
   "version": "3.7.6"
  }
 },
 "nbformat": 4,
 "nbformat_minor": 4
}
